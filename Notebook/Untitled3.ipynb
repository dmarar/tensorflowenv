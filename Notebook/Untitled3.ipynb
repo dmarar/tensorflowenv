{
 "cells": [
  {
   "cell_type": "code",
   "execution_count": 1,
   "metadata": {},
   "outputs": [
    {
     "name": "stdout",
     "output_type": "stream",
     "text": [
      "        Date    Event   Cost\n",
      "0  10/2/2011    Music  10000\n",
      "1  11/2/2011   Poetry   5000\n",
      "2  12/2/2011  Theatre  15000\n",
      "3  13/2/2011   Comedy   2000\n"
     ]
    }
   ],
   "source": [
    "import pandas as pd \n",
    "  \n",
    "# Creating the DataFrame \n",
    "df = pd.DataFrame({'Date':['10/2/2011', '11/2/2011', '12/2/2011', '13/2/2011'], \n",
    "                    'Event':['Music', 'Poetry', 'Theatre', 'Comedy'], \n",
    "                    'Cost':[10000, 5000, 15000, 2000]}) \n",
    "  \n",
    "# Print the dataframe \n",
    "print(df) "
   ]
  },
  {
   "cell_type": "code",
   "execution_count": 6,
   "metadata": {},
   "outputs": [
    {
     "data": {
      "text/html": [
       "<div>\n",
       "<style scoped>\n",
       "    .dataframe tbody tr th:only-of-type {\n",
       "        vertical-align: middle;\n",
       "    }\n",
       "\n",
       "    .dataframe tbody tr th {\n",
       "        vertical-align: top;\n",
       "    }\n",
       "\n",
       "    .dataframe thead th {\n",
       "        text-align: right;\n",
       "    }\n",
       "</style>\n",
       "<table border=\"1\" class=\"dataframe\">\n",
       "  <thead>\n",
       "    <tr style=\"text-align: right;\">\n",
       "      <th></th>\n",
       "      <th>Date</th>\n",
       "      <th>Event</th>\n",
       "      <th>Cost</th>\n",
       "      <th>Discounted_Price</th>\n",
       "    </tr>\n",
       "  </thead>\n",
       "  <tbody>\n",
       "    <tr>\n",
       "      <td>0</td>\n",
       "      <td>10/2/2011</td>\n",
       "      <td>Music</td>\n",
       "      <td>10000</td>\n",
       "      <td>9000.0</td>\n",
       "    </tr>\n",
       "    <tr>\n",
       "      <td>1</td>\n",
       "      <td>11/2/2011</td>\n",
       "      <td>Poetry</td>\n",
       "      <td>5000</td>\n",
       "      <td>4500.0</td>\n",
       "    </tr>\n",
       "    <tr>\n",
       "      <td>2</td>\n",
       "      <td>12/2/2011</td>\n",
       "      <td>Theatre</td>\n",
       "      <td>15000</td>\n",
       "      <td>13500.0</td>\n",
       "    </tr>\n",
       "    <tr>\n",
       "      <td>3</td>\n",
       "      <td>13/2/2011</td>\n",
       "      <td>Comedy</td>\n",
       "      <td>2000</td>\n",
       "      <td>1800.0</td>\n",
       "    </tr>\n",
       "  </tbody>\n",
       "</table>\n",
       "</div>"
      ],
      "text/plain": [
       "        Date    Event   Cost  Discounted_Price\n",
       "0  10/2/2011    Music  10000            9000.0\n",
       "1  11/2/2011   Poetry   5000            4500.0\n",
       "2  12/2/2011  Theatre  15000           13500.0\n",
       "3  13/2/2011   Comedy   2000            1800.0"
      ]
     },
     "execution_count": 6,
     "metadata": {},
     "output_type": "execute_result"
    }
   ],
   "source": [
    "df"
   ]
  },
  {
   "cell_type": "code",
   "execution_count": 27,
   "metadata": {},
   "outputs": [
    {
     "data": {
      "text/html": [
       "<div>\n",
       "<style scoped>\n",
       "    .dataframe tbody tr th:only-of-type {\n",
       "        vertical-align: middle;\n",
       "    }\n",
       "\n",
       "    .dataframe tbody tr th {\n",
       "        vertical-align: top;\n",
       "    }\n",
       "\n",
       "    .dataframe thead th {\n",
       "        text-align: right;\n",
       "    }\n",
       "</style>\n",
       "<table border=\"1\" class=\"dataframe\">\n",
       "  <thead>\n",
       "    <tr style=\"text-align: right;\">\n",
       "      <th></th>\n",
       "      <th>Date</th>\n",
       "      <th>Event</th>\n",
       "      <th>Cost</th>\n",
       "      <th>Discounted_Price</th>\n",
       "    </tr>\n",
       "  </thead>\n",
       "  <tbody>\n",
       "    <tr>\n",
       "      <td>0</td>\n",
       "      <td>10/2/2011</td>\n",
       "      <td>Music</td>\n",
       "      <td>10000</td>\n",
       "      <td>9000.0</td>\n",
       "    </tr>\n",
       "    <tr>\n",
       "      <td>1</td>\n",
       "      <td>11/2/2011</td>\n",
       "      <td>Poetry</td>\n",
       "      <td>5000</td>\n",
       "      <td>4500.0</td>\n",
       "    </tr>\n",
       "    <tr>\n",
       "      <td>2</td>\n",
       "      <td>12/2/2011</td>\n",
       "      <td>Theatre</td>\n",
       "      <td>15000</td>\n",
       "      <td>13500.0</td>\n",
       "    </tr>\n",
       "    <tr>\n",
       "      <td>3</td>\n",
       "      <td>13/2/2011</td>\n",
       "      <td>Comedy</td>\n",
       "      <td>2000</td>\n",
       "      <td>1800.0</td>\n",
       "    </tr>\n",
       "  </tbody>\n",
       "</table>\n",
       "</div>"
      ],
      "text/plain": [
       "        Date    Event   Cost  Discounted_Price\n",
       "0  10/2/2011    Music  10000            9000.0\n",
       "1  11/2/2011   Poetry   5000            4500.0\n",
       "2  12/2/2011  Theatre  15000           13500.0\n",
       "3  13/2/2011   Comedy   2000            1800.0"
      ]
     },
     "execution_count": 27,
     "metadata": {},
     "output_type": "execute_result"
    }
   ],
   "source": [
    "df['Discounted_Price'] = df.apply(lambda row: row.Cost - \n",
    "                                  (row.Cost * 0.1), axis = 1)\n",
    "df"
   ]
  },
  {
   "cell_type": "code",
   "execution_count": 26,
   "metadata": {},
   "outputs": [
    {
     "name": "stdout",
     "output_type": "stream",
     "text": [
      "0----Date                10/2/2011\n",
      "Event                   Music\n",
      "Cost                    10000\n",
      "Discounted_Price         9000\n",
      "Name: 0, dtype: object--type of i<class 'int'>, type of j <class 'pandas.core.series.Series'>\n",
      "1----Date                11/2/2011\n",
      "Event                  Poetry\n",
      "Cost                     5000\n",
      "Discounted_Price         4500\n",
      "Name: 1, dtype: object--type of i<class 'int'>, type of j <class 'pandas.core.series.Series'>\n",
      "2----Date                12/2/2011\n",
      "Event                 Theatre\n",
      "Cost                    15000\n",
      "Discounted_Price        13500\n",
      "Name: 2, dtype: object--type of i<class 'int'>, type of j <class 'pandas.core.series.Series'>\n",
      "3----Date                13/2/2011\n",
      "Event                  Comedy\n",
      "Cost                     2000\n",
      "Discounted_Price         1800\n",
      "Name: 3, dtype: object--type of i<class 'int'>, type of j <class 'pandas.core.series.Series'>\n"
     ]
    }
   ],
   "source": [
    "for i,j in df.iterrows(): #iterrows return format (<index value of row >, Series(each row values))\n",
    "    print(\"{}----{}--type of i{}, type of j {}\".format(i,j,type(i),type(j)))\n",
    "\n",
    "   "
   ]
  },
  {
   "cell_type": "code",
   "execution_count": 28,
   "metadata": {},
   "outputs": [
    {
     "name": "stdout",
     "output_type": "stream",
     "text": [
      "Date----0    10/2/2011\n",
      "1    11/2/2011\n",
      "2    12/2/2011\n",
      "3    13/2/2011\n",
      "Name: Date, dtype: object--type of i<class 'str'>, type of j <class 'pandas.core.series.Series'>\n",
      "Event----0      Music\n",
      "1     Poetry\n",
      "2    Theatre\n",
      "3     Comedy\n",
      "Name: Event, dtype: object--type of i<class 'str'>, type of j <class 'pandas.core.series.Series'>\n",
      "Cost----0    10000\n",
      "1     5000\n",
      "2    15000\n",
      "3     2000\n",
      "Name: Cost, dtype: int64--type of i<class 'str'>, type of j <class 'pandas.core.series.Series'>\n",
      "Discounted_Price----0     9000.0\n",
      "1     4500.0\n",
      "2    13500.0\n",
      "3     1800.0\n",
      "Name: Discounted_Price, dtype: float64--type of i<class 'str'>, type of j <class 'pandas.core.series.Series'>\n"
     ]
    }
   ],
   "source": [
    "for i,j in df.iteritems(): #iterrows return format (<column name>, Series(each column values))\n",
    "    print(\"{}----{}--type of i{}, type of j {}\".format(i,j,type(i),type(j)))\n"
   ]
  },
  {
   "cell_type": "code",
   "execution_count": 30,
   "metadata": {},
   "outputs": [
    {
     "name": "stdout",
     "output_type": "stream",
     "text": [
      "Pandas(Index=0, Date='10/2/2011', Event='Music', Cost=10000, Discounted_Price=9000.0)--type of i<class 'pandas.core.frame.Pandas'>\n",
      "Pandas(Index=1, Date='11/2/2011', Event='Poetry', Cost=5000, Discounted_Price=4500.0)--type of i<class 'pandas.core.frame.Pandas'>\n",
      "Pandas(Index=2, Date='12/2/2011', Event='Theatre', Cost=15000, Discounted_Price=13500.0)--type of i<class 'pandas.core.frame.Pandas'>\n",
      "Pandas(Index=3, Date='13/2/2011', Event='Comedy', Cost=2000, Discounted_Price=1800.0)--type of i<class 'pandas.core.frame.Pandas'>\n"
     ]
    }
   ],
   "source": [
    "for i in df.itertuples(): # return format (tuple of index of eac row and each row value)\n",
    "    print(\"{}--type of i{}\".format(i,type(i)))\n"
   ]
  },
  {
   "cell_type": "code",
   "execution_count": null,
   "metadata": {},
   "outputs": [],
   "source": []
  }
 ],
 "metadata": {
  "kernelspec": {
   "display_name": "Python 3",
   "language": "python",
   "name": "python3"
  },
  "language_info": {
   "codemirror_mode": {
    "name": "ipython",
    "version": 3
   },
   "file_extension": ".py",
   "mimetype": "text/x-python",
   "name": "python",
   "nbconvert_exporter": "python",
   "pygments_lexer": "ipython3",
   "version": "3.7.4"
  }
 },
 "nbformat": 4,
 "nbformat_minor": 2
}
