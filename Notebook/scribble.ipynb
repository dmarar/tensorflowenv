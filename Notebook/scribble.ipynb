{
 "cells": [
  {
   "cell_type": "code",
   "execution_count": 1,
   "metadata": {},
   "outputs": [],
   "source": [
    "import pandas as pd\n",
    "import numpy as np\n",
    "from sklearn.model_selection import train_test_split\n",
    "import os"
   ]
  },
  {
   "cell_type": "code",
   "execution_count": 2,
   "metadata": {},
   "outputs": [
    {
     "output_type": "execute_result",
     "data": {
      "text/plain": "'d:\\\\Python\\\\tensorflowenv\\\\data'"
     },
     "metadata": {},
     "execution_count": 2
    }
   ],
   "source": [
    "os.chdir(\"../data\")\n",
    "os.getcwd()"
   ]
  },
  {
   "cell_type": "code",
   "execution_count": 54,
   "metadata": {},
   "outputs": [],
   "source": [
    "melb_data = pd.read_csv(\"melbourne-housing-market\\Melbourne_housing_FULL.csv\")"
   ]
  },
  {
   "cell_type": "code",
   "execution_count": 4,
   "metadata": {},
   "outputs": [],
   "source": [
    "y = melb_data['Price']"
   ]
  },
  {
   "cell_type": "code",
   "execution_count": 5,
   "metadata": {},
   "outputs": [],
   "source": [
    "X = melb_data.drop('Price', axis=1)"
   ]
  },
  {
   "cell_type": "code",
   "execution_count": 6,
   "metadata": {},
   "outputs": [
    {
     "output_type": "execute_result",
     "data": {
      "text/plain": "       Rooms  Distance  Postcode  Bedroom2  Bathroom  Car  Landsize  \\\n0          2       2.5    3067.0       2.0       1.0  1.0     126.0   \n1          2       2.5    3067.0       2.0       1.0  1.0     202.0   \n2          2       2.5    3067.0       2.0       1.0  0.0     156.0   \n3          3       2.5    3067.0       3.0       2.0  1.0       0.0   \n4          3       2.5    3067.0       3.0       2.0  0.0     134.0   \n...      ...       ...       ...       ...       ...  ...       ...   \n34852      4       6.3    3013.0       4.0       1.0  3.0     593.0   \n34853      2       6.3    3013.0       2.0       2.0  1.0      98.0   \n34854      2       6.3    3013.0       2.0       1.0  2.0     220.0   \n34855      3       6.3    3013.0       NaN       NaN  NaN       NaN   \n34856      2       6.3    3013.0       2.0       1.0  0.0     250.0   \n\n       BuildingArea  YearBuilt  Lattitude  Longtitude  Propertycount  \n0               NaN        NaN  -37.80140   144.99580         4019.0  \n1               NaN        NaN  -37.79960   144.99840         4019.0  \n2              79.0     1900.0  -37.80790   144.99340         4019.0  \n3               NaN        NaN  -37.81140   145.01160         4019.0  \n4             150.0     1900.0  -37.80930   144.99440         4019.0  \n...             ...        ...        ...         ...            ...  \n34852           NaN        NaN  -37.81053   144.88467         6543.0  \n34853         104.0     2018.0  -37.81551   144.88826         6543.0  \n34854         120.0     2000.0  -37.82286   144.87856         6543.0  \n34855           NaN        NaN        NaN         NaN         6543.0  \n34856         103.0     1930.0  -37.81810   144.89351         6543.0  \n\n[34857 rows x 12 columns]",
      "text/html": "<div>\n<style scoped>\n    .dataframe tbody tr th:only-of-type {\n        vertical-align: middle;\n    }\n\n    .dataframe tbody tr th {\n        vertical-align: top;\n    }\n\n    .dataframe thead th {\n        text-align: right;\n    }\n</style>\n<table border=\"1\" class=\"dataframe\">\n  <thead>\n    <tr style=\"text-align: right;\">\n      <th></th>\n      <th>Rooms</th>\n      <th>Distance</th>\n      <th>Postcode</th>\n      <th>Bedroom2</th>\n      <th>Bathroom</th>\n      <th>Car</th>\n      <th>Landsize</th>\n      <th>BuildingArea</th>\n      <th>YearBuilt</th>\n      <th>Lattitude</th>\n      <th>Longtitude</th>\n      <th>Propertycount</th>\n    </tr>\n  </thead>\n  <tbody>\n    <tr>\n      <th>0</th>\n      <td>2</td>\n      <td>2.5</td>\n      <td>3067.0</td>\n      <td>2.0</td>\n      <td>1.0</td>\n      <td>1.0</td>\n      <td>126.0</td>\n      <td>NaN</td>\n      <td>NaN</td>\n      <td>-37.80140</td>\n      <td>144.99580</td>\n      <td>4019.0</td>\n    </tr>\n    <tr>\n      <th>1</th>\n      <td>2</td>\n      <td>2.5</td>\n      <td>3067.0</td>\n      <td>2.0</td>\n      <td>1.0</td>\n      <td>1.0</td>\n      <td>202.0</td>\n      <td>NaN</td>\n      <td>NaN</td>\n      <td>-37.79960</td>\n      <td>144.99840</td>\n      <td>4019.0</td>\n    </tr>\n    <tr>\n      <th>2</th>\n      <td>2</td>\n      <td>2.5</td>\n      <td>3067.0</td>\n      <td>2.0</td>\n      <td>1.0</td>\n      <td>0.0</td>\n      <td>156.0</td>\n      <td>79.0</td>\n      <td>1900.0</td>\n      <td>-37.80790</td>\n      <td>144.99340</td>\n      <td>4019.0</td>\n    </tr>\n    <tr>\n      <th>3</th>\n      <td>3</td>\n      <td>2.5</td>\n      <td>3067.0</td>\n      <td>3.0</td>\n      <td>2.0</td>\n      <td>1.0</td>\n      <td>0.0</td>\n      <td>NaN</td>\n      <td>NaN</td>\n      <td>-37.81140</td>\n      <td>145.01160</td>\n      <td>4019.0</td>\n    </tr>\n    <tr>\n      <th>4</th>\n      <td>3</td>\n      <td>2.5</td>\n      <td>3067.0</td>\n      <td>3.0</td>\n      <td>2.0</td>\n      <td>0.0</td>\n      <td>134.0</td>\n      <td>150.0</td>\n      <td>1900.0</td>\n      <td>-37.80930</td>\n      <td>144.99440</td>\n      <td>4019.0</td>\n    </tr>\n    <tr>\n      <th>...</th>\n      <td>...</td>\n      <td>...</td>\n      <td>...</td>\n      <td>...</td>\n      <td>...</td>\n      <td>...</td>\n      <td>...</td>\n      <td>...</td>\n      <td>...</td>\n      <td>...</td>\n      <td>...</td>\n      <td>...</td>\n    </tr>\n    <tr>\n      <th>34852</th>\n      <td>4</td>\n      <td>6.3</td>\n      <td>3013.0</td>\n      <td>4.0</td>\n      <td>1.0</td>\n      <td>3.0</td>\n      <td>593.0</td>\n      <td>NaN</td>\n      <td>NaN</td>\n      <td>-37.81053</td>\n      <td>144.88467</td>\n      <td>6543.0</td>\n    </tr>\n    <tr>\n      <th>34853</th>\n      <td>2</td>\n      <td>6.3</td>\n      <td>3013.0</td>\n      <td>2.0</td>\n      <td>2.0</td>\n      <td>1.0</td>\n      <td>98.0</td>\n      <td>104.0</td>\n      <td>2018.0</td>\n      <td>-37.81551</td>\n      <td>144.88826</td>\n      <td>6543.0</td>\n    </tr>\n    <tr>\n      <th>34854</th>\n      <td>2</td>\n      <td>6.3</td>\n      <td>3013.0</td>\n      <td>2.0</td>\n      <td>1.0</td>\n      <td>2.0</td>\n      <td>220.0</td>\n      <td>120.0</td>\n      <td>2000.0</td>\n      <td>-37.82286</td>\n      <td>144.87856</td>\n      <td>6543.0</td>\n    </tr>\n    <tr>\n      <th>34855</th>\n      <td>3</td>\n      <td>6.3</td>\n      <td>3013.0</td>\n      <td>NaN</td>\n      <td>NaN</td>\n      <td>NaN</td>\n      <td>NaN</td>\n      <td>NaN</td>\n      <td>NaN</td>\n      <td>NaN</td>\n      <td>NaN</td>\n      <td>6543.0</td>\n    </tr>\n    <tr>\n      <th>34856</th>\n      <td>2</td>\n      <td>6.3</td>\n      <td>3013.0</td>\n      <td>2.0</td>\n      <td>1.0</td>\n      <td>0.0</td>\n      <td>250.0</td>\n      <td>103.0</td>\n      <td>1930.0</td>\n      <td>-37.81810</td>\n      <td>144.89351</td>\n      <td>6543.0</td>\n    </tr>\n  </tbody>\n</table>\n<p>34857 rows × 12 columns</p>\n</div>"
     },
     "metadata": {},
     "execution_count": 6
    }
   ],
   "source": [
    "X = X.select_dtypes(exclude=['object'])\n",
    "X"
   ]
  },
  {
   "cell_type": "code",
   "execution_count": 7,
   "metadata": {},
   "outputs": [],
   "source": [
    "X_train, X_test, y_train, y_test = train_test_split(X,y, test_size=0.2, random_state=0)"
   ]
  },
  {
   "cell_type": "code",
   "execution_count": 8,
   "metadata": {},
   "outputs": [
    {
     "output_type": "execute_result",
     "data": {
      "text/plain": "(27885, 12)"
     },
     "metadata": {},
     "execution_count": 8
    }
   ],
   "source": [
    "X_train.shape"
   ]
  },
  {
   "cell_type": "code",
   "execution_count": 9,
   "metadata": {},
   "outputs": [],
   "source": [
    "from sklearn.impute import SimpleImputer\n",
    "my_imputer = SimpleImputer()\n",
    "X_train_imputed = pd.DataFrame(my_imputer.fit_transform(X_train))\n",
    "X_test_imputed = pd.DataFrame(my_imputer.transform(X_test))"
   ]
  },
  {
   "cell_type": "code",
   "execution_count": 10,
   "metadata": {},
   "outputs": [
    {
     "output_type": "execute_result",
     "data": {
      "text/plain": "       Rooms  Distance  Postcode  Bedroom2  Bathroom      Car    Landsize  \\\n0        3.0       7.8    3058.0  4.000000  1.000000  1.00000  417.000000   \n1        3.0       6.4    3012.0  2.000000  1.000000  1.00000  595.473299   \n2        3.0      25.2    3173.0  3.082633  1.624131  1.72927  595.473299   \n3        1.0       4.6    3122.0  1.000000  1.000000  1.00000    0.000000   \n4        3.0       7.5    3040.0  3.000000  3.000000  1.00000  846.000000   \n...      ...       ...       ...       ...       ...      ...         ...   \n27880    3.0       4.6    3181.0  3.000000  2.000000  2.00000  595.473299   \n27881    4.0      20.6    3064.0  4.000000  2.000000  2.00000  576.000000   \n27882    2.0      11.2    3046.0  3.082633  1.624131  1.72927  595.473299   \n27883    3.0      13.8    3188.0  3.000000  1.000000  2.00000  595.473299   \n27884    3.0       7.8    3124.0  3.000000  1.000000  1.00000  405.000000   \n\n       BuildingArea    YearBuilt  Lattitude  Longtitude  Propertycount  \n0        135.000000  1920.000000  -37.75100  144.976400        11204.0  \n1        157.644132  1964.981513  -37.79820  144.874500         5058.0  \n2        157.644132  1964.981513  -37.81059  145.001949         8459.0  \n3         63.000000  1995.000000  -37.82990  145.042200        11308.0  \n4        187.000000  1940.000000  -37.75228  144.884290          588.0  \n...             ...          ...        ...         ...            ...  \n27880    143.000000  1915.000000  -37.85435  145.010730         7717.0  \n27881    157.644132  1964.981513  -37.61475  144.921470         5833.0  \n27882    157.644132  1964.981513  -37.81059  145.001949         8870.0  \n27883    126.000000  1985.000000  -37.93531  145.017000         5454.0  \n27884    102.000000  1930.000000  -37.84480  145.071000         8920.0  \n\n[27885 rows x 12 columns]",
      "text/html": "<div>\n<style scoped>\n    .dataframe tbody tr th:only-of-type {\n        vertical-align: middle;\n    }\n\n    .dataframe tbody tr th {\n        vertical-align: top;\n    }\n\n    .dataframe thead th {\n        text-align: right;\n    }\n</style>\n<table border=\"1\" class=\"dataframe\">\n  <thead>\n    <tr style=\"text-align: right;\">\n      <th></th>\n      <th>Rooms</th>\n      <th>Distance</th>\n      <th>Postcode</th>\n      <th>Bedroom2</th>\n      <th>Bathroom</th>\n      <th>Car</th>\n      <th>Landsize</th>\n      <th>BuildingArea</th>\n      <th>YearBuilt</th>\n      <th>Lattitude</th>\n      <th>Longtitude</th>\n      <th>Propertycount</th>\n    </tr>\n  </thead>\n  <tbody>\n    <tr>\n      <th>0</th>\n      <td>3.0</td>\n      <td>7.8</td>\n      <td>3058.0</td>\n      <td>4.000000</td>\n      <td>1.000000</td>\n      <td>1.00000</td>\n      <td>417.000000</td>\n      <td>135.000000</td>\n      <td>1920.000000</td>\n      <td>-37.75100</td>\n      <td>144.976400</td>\n      <td>11204.0</td>\n    </tr>\n    <tr>\n      <th>1</th>\n      <td>3.0</td>\n      <td>6.4</td>\n      <td>3012.0</td>\n      <td>2.000000</td>\n      <td>1.000000</td>\n      <td>1.00000</td>\n      <td>595.473299</td>\n      <td>157.644132</td>\n      <td>1964.981513</td>\n      <td>-37.79820</td>\n      <td>144.874500</td>\n      <td>5058.0</td>\n    </tr>\n    <tr>\n      <th>2</th>\n      <td>3.0</td>\n      <td>25.2</td>\n      <td>3173.0</td>\n      <td>3.082633</td>\n      <td>1.624131</td>\n      <td>1.72927</td>\n      <td>595.473299</td>\n      <td>157.644132</td>\n      <td>1964.981513</td>\n      <td>-37.81059</td>\n      <td>145.001949</td>\n      <td>8459.0</td>\n    </tr>\n    <tr>\n      <th>3</th>\n      <td>1.0</td>\n      <td>4.6</td>\n      <td>3122.0</td>\n      <td>1.000000</td>\n      <td>1.000000</td>\n      <td>1.00000</td>\n      <td>0.000000</td>\n      <td>63.000000</td>\n      <td>1995.000000</td>\n      <td>-37.82990</td>\n      <td>145.042200</td>\n      <td>11308.0</td>\n    </tr>\n    <tr>\n      <th>4</th>\n      <td>3.0</td>\n      <td>7.5</td>\n      <td>3040.0</td>\n      <td>3.000000</td>\n      <td>3.000000</td>\n      <td>1.00000</td>\n      <td>846.000000</td>\n      <td>187.000000</td>\n      <td>1940.000000</td>\n      <td>-37.75228</td>\n      <td>144.884290</td>\n      <td>588.0</td>\n    </tr>\n    <tr>\n      <th>...</th>\n      <td>...</td>\n      <td>...</td>\n      <td>...</td>\n      <td>...</td>\n      <td>...</td>\n      <td>...</td>\n      <td>...</td>\n      <td>...</td>\n      <td>...</td>\n      <td>...</td>\n      <td>...</td>\n      <td>...</td>\n    </tr>\n    <tr>\n      <th>27880</th>\n      <td>3.0</td>\n      <td>4.6</td>\n      <td>3181.0</td>\n      <td>3.000000</td>\n      <td>2.000000</td>\n      <td>2.00000</td>\n      <td>595.473299</td>\n      <td>143.000000</td>\n      <td>1915.000000</td>\n      <td>-37.85435</td>\n      <td>145.010730</td>\n      <td>7717.0</td>\n    </tr>\n    <tr>\n      <th>27881</th>\n      <td>4.0</td>\n      <td>20.6</td>\n      <td>3064.0</td>\n      <td>4.000000</td>\n      <td>2.000000</td>\n      <td>2.00000</td>\n      <td>576.000000</td>\n      <td>157.644132</td>\n      <td>1964.981513</td>\n      <td>-37.61475</td>\n      <td>144.921470</td>\n      <td>5833.0</td>\n    </tr>\n    <tr>\n      <th>27882</th>\n      <td>2.0</td>\n      <td>11.2</td>\n      <td>3046.0</td>\n      <td>3.082633</td>\n      <td>1.624131</td>\n      <td>1.72927</td>\n      <td>595.473299</td>\n      <td>157.644132</td>\n      <td>1964.981513</td>\n      <td>-37.81059</td>\n      <td>145.001949</td>\n      <td>8870.0</td>\n    </tr>\n    <tr>\n      <th>27883</th>\n      <td>3.0</td>\n      <td>13.8</td>\n      <td>3188.0</td>\n      <td>3.000000</td>\n      <td>1.000000</td>\n      <td>2.00000</td>\n      <td>595.473299</td>\n      <td>126.000000</td>\n      <td>1985.000000</td>\n      <td>-37.93531</td>\n      <td>145.017000</td>\n      <td>5454.0</td>\n    </tr>\n    <tr>\n      <th>27884</th>\n      <td>3.0</td>\n      <td>7.8</td>\n      <td>3124.0</td>\n      <td>3.000000</td>\n      <td>1.000000</td>\n      <td>1.00000</td>\n      <td>405.000000</td>\n      <td>102.000000</td>\n      <td>1930.000000</td>\n      <td>-37.84480</td>\n      <td>145.071000</td>\n      <td>8920.0</td>\n    </tr>\n  </tbody>\n</table>\n<p>27885 rows × 12 columns</p>\n</div>"
     },
     "metadata": {},
     "execution_count": 10
    }
   ],
   "source": [
    "X_train_imputed.columns  = X_train.columns\n",
    "X_train_imputed"
   ]
  },
  {
   "cell_type": "code",
   "execution_count": 11,
   "metadata": {},
   "outputs": [],
   "source": [
    "### CategoricalVariables####"
   ]
  },
  {
   "cell_type": "code",
   "execution_count": 72,
   "metadata": {},
   "outputs": [
    {
     "output_type": "execute_result",
     "data": {
      "text/plain": "(8887, 8)"
     },
     "metadata": {},
     "execution_count": 72
    }
   ],
   "source": [
    "\n",
    "melb_data.isnull().sum()\n",
    "melb_data.shape\n",
    "X =melb_data.drop('Price', axis=1)\n",
    "# melb_data= melb_data.dropna()\n",
    "y= melb_data['Price']\n",
    "X = X.select_dtypes(include='object')\n",
    "# X.isnull().sum().sort_values(ascending=False)\n",
    "# help(dropna)\n",
    "\n",
    "X.shape"
   ]
  },
  {
   "cell_type": "code",
   "execution_count": 73,
   "metadata": {},
   "outputs": [],
   "source": [
    "\n",
    "X_train, X_test, y_train, y_test = train_test_split(X,y,random_state=0)"
   ]
  },
  {
   "cell_type": "code",
   "execution_count": 74,
   "metadata": {},
   "outputs": [
    {
     "output_type": "execute_result",
     "data": {
      "text/plain": "1642     1200000.0\n8140      540000.0\n33985    1002500.0\n23081     460000.0\n27366     675000.0\n           ...    \n4348      855000.0\n9956      500000.0\n854      2400000.0\n23717     927000.0\n10403     925000.0\nName: Price, Length: 2222, dtype: float64"
     },
     "metadata": {},
     "execution_count": 74
    }
   ],
   "source": [
    "y_test"
   ]
  },
  {
   "cell_type": "code",
   "execution_count": 80,
   "metadata": {},
   "outputs": [
    {
     "output_type": "execute_result",
     "data": {
      "text/plain": "Index(['Suburb', 'Address', 'Type', 'Method', 'SellerG', 'Date', 'CouncilArea',\n       'Regionname'],\n      dtype='object')"
     },
     "metadata": {},
     "execution_count": 80
    }
   ],
   "source": [
    "X.columns"
   ]
  },
  {
   "cell_type": "code",
   "execution_count": 76,
   "metadata": {},
   "outputs": [],
   "source": [
    "from sklearn.preprocessing import LabelEncoder\n",
    "lencoder = LabelEncoder()\n",
    "label_X_train = X_train.copy()\n",
    "label_X_test = X_test.copy()"
   ]
  },
  {
   "cell_type": "code",
   "execution_count": 77,
   "metadata": {},
   "outputs": [],
   "source": [
    "\n",
    "for col in X_train.columns:\n",
    "    \n",
    "    label_X_train[col] = lencoder.fit_transform(X_train[col])\n",
    "    label_X_test[col] = lencoder.fit_transform(X_test[col])"
   ]
  },
  {
   "cell_type": "code",
   "execution_count": 78,
   "metadata": {},
   "outputs": [
    {
     "output_type": "execute_result",
     "data": {
      "text/plain": "       Suburb  Address  Type  Method  SellerG  Date  CouncilArea  Regionname\n27414     296     3494     0       1       62     7           30           6\n4075      117      202     2       3       13    28           22           6\n7886      232     4490     2       3      100    35           18           5\n10252     280     2390     2       1       81    59            6           2\n31000     191     1260     0       1      219    54           19           7\n...       ...      ...   ...     ...      ...   ...          ...         ...\n13554     237     1999     0       1      167    72            6           2\n30441     145     6253     0       3       28    76            1           5\n15315     267       62     0       3       23    56           11           6\n9873      269     4792     0       1       13     4            3           6\n8273      234      943     0       1      167    43            6           2\n\n[6665 rows x 8 columns]",
      "text/html": "<div>\n<style scoped>\n    .dataframe tbody tr th:only-of-type {\n        vertical-align: middle;\n    }\n\n    .dataframe tbody tr th {\n        vertical-align: top;\n    }\n\n    .dataframe thead th {\n        text-align: right;\n    }\n</style>\n<table border=\"1\" class=\"dataframe\">\n  <thead>\n    <tr style=\"text-align: right;\">\n      <th></th>\n      <th>Suburb</th>\n      <th>Address</th>\n      <th>Type</th>\n      <th>Method</th>\n      <th>SellerG</th>\n      <th>Date</th>\n      <th>CouncilArea</th>\n      <th>Regionname</th>\n    </tr>\n  </thead>\n  <tbody>\n    <tr>\n      <th>27414</th>\n      <td>296</td>\n      <td>3494</td>\n      <td>0</td>\n      <td>1</td>\n      <td>62</td>\n      <td>7</td>\n      <td>30</td>\n      <td>6</td>\n    </tr>\n    <tr>\n      <th>4075</th>\n      <td>117</td>\n      <td>202</td>\n      <td>2</td>\n      <td>3</td>\n      <td>13</td>\n      <td>28</td>\n      <td>22</td>\n      <td>6</td>\n    </tr>\n    <tr>\n      <th>7886</th>\n      <td>232</td>\n      <td>4490</td>\n      <td>2</td>\n      <td>3</td>\n      <td>100</td>\n      <td>35</td>\n      <td>18</td>\n      <td>5</td>\n    </tr>\n    <tr>\n      <th>10252</th>\n      <td>280</td>\n      <td>2390</td>\n      <td>2</td>\n      <td>1</td>\n      <td>81</td>\n      <td>59</td>\n      <td>6</td>\n      <td>2</td>\n    </tr>\n    <tr>\n      <th>31000</th>\n      <td>191</td>\n      <td>1260</td>\n      <td>0</td>\n      <td>1</td>\n      <td>219</td>\n      <td>54</td>\n      <td>19</td>\n      <td>7</td>\n    </tr>\n    <tr>\n      <th>...</th>\n      <td>...</td>\n      <td>...</td>\n      <td>...</td>\n      <td>...</td>\n      <td>...</td>\n      <td>...</td>\n      <td>...</td>\n      <td>...</td>\n    </tr>\n    <tr>\n      <th>13554</th>\n      <td>237</td>\n      <td>1999</td>\n      <td>0</td>\n      <td>1</td>\n      <td>167</td>\n      <td>72</td>\n      <td>6</td>\n      <td>2</td>\n    </tr>\n    <tr>\n      <th>30441</th>\n      <td>145</td>\n      <td>6253</td>\n      <td>0</td>\n      <td>3</td>\n      <td>28</td>\n      <td>76</td>\n      <td>1</td>\n      <td>5</td>\n    </tr>\n    <tr>\n      <th>15315</th>\n      <td>267</td>\n      <td>62</td>\n      <td>0</td>\n      <td>3</td>\n      <td>23</td>\n      <td>56</td>\n      <td>11</td>\n      <td>6</td>\n    </tr>\n    <tr>\n      <th>9873</th>\n      <td>269</td>\n      <td>4792</td>\n      <td>0</td>\n      <td>1</td>\n      <td>13</td>\n      <td>4</td>\n      <td>3</td>\n      <td>6</td>\n    </tr>\n    <tr>\n      <th>8273</th>\n      <td>234</td>\n      <td>943</td>\n      <td>0</td>\n      <td>1</td>\n      <td>167</td>\n      <td>43</td>\n      <td>6</td>\n      <td>2</td>\n    </tr>\n  </tbody>\n</table>\n<p>6665 rows × 8 columns</p>\n</div>"
     },
     "metadata": {},
     "execution_count": 78
    }
   ],
   "source": [
    "label_X_train"
   ]
  },
  {
   "cell_type": "code",
   "execution_count": 79,
   "metadata": {},
   "outputs": [],
   "source": [
    "from sklearn.preprocessing import OneHotEncoder\n",
    "onehot_enc = OneHotEncoder(sparse=False, handle_unknown='ignore')\n",
    "onehot_X_train = pd.DataFrame(onehot_enc.fit_transform(X_train[cate_cols]))\n",
    "onehot_X_test = pd.DataFrame(onehot_enc.transform(X_test[cate_cols]))"
   ]
  },
  {
   "cell_type": "code",
   "execution_count": 20,
   "metadata": {},
   "outputs": [
    {
     "output_type": "execute_result",
     "data": {
      "text/plain": "       0      1      2      3      4      5      6      7      8      9      \\\n15770    0.0    0.0    0.0    0.0    0.0    0.0    0.0    0.0    0.0    0.0   \n3972     0.0    0.0    0.0    0.0    0.0    0.0    0.0    0.0    0.0    0.0   \n34085    0.0    0.0    0.0    0.0    0.0    0.0    0.0    0.0    0.0    0.0   \n34092    0.0    0.0    0.0    0.0    0.0    0.0    0.0    0.0    0.0    0.0   \n33747    0.0    0.0    0.0    0.0    0.0    0.0    0.0    0.0    0.0    0.0   \n...      ...    ...    ...    ...    ...    ...    ...    ...    ...    ...   \n20757    0.0    0.0    0.0    0.0    0.0    0.0    0.0    0.0    0.0    0.0   \n32103    0.0    0.0    0.0    0.0    0.0    0.0    0.0    0.0    0.0    0.0   \n30403    0.0    0.0    0.0    0.0    0.0    0.0    0.0    0.0    0.0    0.0   \n21243    0.0    0.0    0.0    0.0    0.0    0.0    0.0    0.0    0.0    0.0   \n2732     0.0    0.0    0.0    0.0    0.0    0.0    0.0    0.0    0.0    0.0   \n\n       ...  26444  26445  26446  26447  26448  26449  26450  26451  26452  \\\n15770  ...    0.0    0.0    0.0    0.0    0.0    0.0    0.0    0.0    0.0   \n3972   ...    0.0    0.0    0.0    0.0    0.0    0.0    0.0    0.0    0.0   \n34085  ...    0.0    0.0    0.0    0.0    0.0    0.0    0.0    0.0    0.0   \n34092  ...    0.0    0.0    0.0    0.0    0.0    0.0    0.0    0.0    0.0   \n33747  ...    0.0    0.0    0.0    0.0    0.0    0.0    0.0    0.0    0.0   \n...    ...    ...    ...    ...    ...    ...    ...    ...    ...    ...   \n20757  ...    0.0    0.0    0.0    0.0    0.0    0.0    0.0    0.0    1.0   \n32103  ...    0.0    0.0    0.0    0.0    0.0    0.0    0.0    0.0    0.0   \n30403  ...    0.0    0.0    0.0    0.0    0.0    0.0    0.0    0.0    0.0   \n21243  ...    0.0    0.0    0.0    0.0    0.0    0.0    0.0    0.0    0.0   \n2732   ...    0.0    0.0    0.0    0.0    0.0    0.0    0.0    0.0    0.0   \n\n       26453  \n15770    0.0  \n3972     0.0  \n34085    0.0  \n34092    0.0  \n33747    0.0  \n...      ...  \n20757    0.0  \n32103    0.0  \n30403    1.0  \n21243    0.0  \n2732     0.0  \n\n[26142 rows x 26454 columns]",
      "text/html": "<div>\n<style scoped>\n    .dataframe tbody tr th:only-of-type {\n        vertical-align: middle;\n    }\n\n    .dataframe tbody tr th {\n        vertical-align: top;\n    }\n\n    .dataframe thead th {\n        text-align: right;\n    }\n</style>\n<table border=\"1\" class=\"dataframe\">\n  <thead>\n    <tr style=\"text-align: right;\">\n      <th></th>\n      <th>0</th>\n      <th>1</th>\n      <th>2</th>\n      <th>3</th>\n      <th>4</th>\n      <th>5</th>\n      <th>6</th>\n      <th>7</th>\n      <th>8</th>\n      <th>9</th>\n      <th>...</th>\n      <th>26444</th>\n      <th>26445</th>\n      <th>26446</th>\n      <th>26447</th>\n      <th>26448</th>\n      <th>26449</th>\n      <th>26450</th>\n      <th>26451</th>\n      <th>26452</th>\n      <th>26453</th>\n    </tr>\n  </thead>\n  <tbody>\n    <tr>\n      <th>15770</th>\n      <td>0.0</td>\n      <td>0.0</td>\n      <td>0.0</td>\n      <td>0.0</td>\n      <td>0.0</td>\n      <td>0.0</td>\n      <td>0.0</td>\n      <td>0.0</td>\n      <td>0.0</td>\n      <td>0.0</td>\n      <td>...</td>\n      <td>0.0</td>\n      <td>0.0</td>\n      <td>0.0</td>\n      <td>0.0</td>\n      <td>0.0</td>\n      <td>0.0</td>\n      <td>0.0</td>\n      <td>0.0</td>\n      <td>0.0</td>\n      <td>0.0</td>\n    </tr>\n    <tr>\n      <th>3972</th>\n      <td>0.0</td>\n      <td>0.0</td>\n      <td>0.0</td>\n      <td>0.0</td>\n      <td>0.0</td>\n      <td>0.0</td>\n      <td>0.0</td>\n      <td>0.0</td>\n      <td>0.0</td>\n      <td>0.0</td>\n      <td>...</td>\n      <td>0.0</td>\n      <td>0.0</td>\n      <td>0.0</td>\n      <td>0.0</td>\n      <td>0.0</td>\n      <td>0.0</td>\n      <td>0.0</td>\n      <td>0.0</td>\n      <td>0.0</td>\n      <td>0.0</td>\n    </tr>\n    <tr>\n      <th>34085</th>\n      <td>0.0</td>\n      <td>0.0</td>\n      <td>0.0</td>\n      <td>0.0</td>\n      <td>0.0</td>\n      <td>0.0</td>\n      <td>0.0</td>\n      <td>0.0</td>\n      <td>0.0</td>\n      <td>0.0</td>\n      <td>...</td>\n      <td>0.0</td>\n      <td>0.0</td>\n      <td>0.0</td>\n      <td>0.0</td>\n      <td>0.0</td>\n      <td>0.0</td>\n      <td>0.0</td>\n      <td>0.0</td>\n      <td>0.0</td>\n      <td>0.0</td>\n    </tr>\n    <tr>\n      <th>34092</th>\n      <td>0.0</td>\n      <td>0.0</td>\n      <td>0.0</td>\n      <td>0.0</td>\n      <td>0.0</td>\n      <td>0.0</td>\n      <td>0.0</td>\n      <td>0.0</td>\n      <td>0.0</td>\n      <td>0.0</td>\n      <td>...</td>\n      <td>0.0</td>\n      <td>0.0</td>\n      <td>0.0</td>\n      <td>0.0</td>\n      <td>0.0</td>\n      <td>0.0</td>\n      <td>0.0</td>\n      <td>0.0</td>\n      <td>0.0</td>\n      <td>0.0</td>\n    </tr>\n    <tr>\n      <th>33747</th>\n      <td>0.0</td>\n      <td>0.0</td>\n      <td>0.0</td>\n      <td>0.0</td>\n      <td>0.0</td>\n      <td>0.0</td>\n      <td>0.0</td>\n      <td>0.0</td>\n      <td>0.0</td>\n      <td>0.0</td>\n      <td>...</td>\n      <td>0.0</td>\n      <td>0.0</td>\n      <td>0.0</td>\n      <td>0.0</td>\n      <td>0.0</td>\n      <td>0.0</td>\n      <td>0.0</td>\n      <td>0.0</td>\n      <td>0.0</td>\n      <td>0.0</td>\n    </tr>\n    <tr>\n      <th>...</th>\n      <td>...</td>\n      <td>...</td>\n      <td>...</td>\n      <td>...</td>\n      <td>...</td>\n      <td>...</td>\n      <td>...</td>\n      <td>...</td>\n      <td>...</td>\n      <td>...</td>\n      <td>...</td>\n      <td>...</td>\n      <td>...</td>\n      <td>...</td>\n      <td>...</td>\n      <td>...</td>\n      <td>...</td>\n      <td>...</td>\n      <td>...</td>\n      <td>...</td>\n      <td>...</td>\n    </tr>\n    <tr>\n      <th>20757</th>\n      <td>0.0</td>\n      <td>0.0</td>\n      <td>0.0</td>\n      <td>0.0</td>\n      <td>0.0</td>\n      <td>0.0</td>\n      <td>0.0</td>\n      <td>0.0</td>\n      <td>0.0</td>\n      <td>0.0</td>\n      <td>...</td>\n      <td>0.0</td>\n      <td>0.0</td>\n      <td>0.0</td>\n      <td>0.0</td>\n      <td>0.0</td>\n      <td>0.0</td>\n      <td>0.0</td>\n      <td>0.0</td>\n      <td>1.0</td>\n      <td>0.0</td>\n    </tr>\n    <tr>\n      <th>32103</th>\n      <td>0.0</td>\n      <td>0.0</td>\n      <td>0.0</td>\n      <td>0.0</td>\n      <td>0.0</td>\n      <td>0.0</td>\n      <td>0.0</td>\n      <td>0.0</td>\n      <td>0.0</td>\n      <td>0.0</td>\n      <td>...</td>\n      <td>0.0</td>\n      <td>0.0</td>\n      <td>0.0</td>\n      <td>0.0</td>\n      <td>0.0</td>\n      <td>0.0</td>\n      <td>0.0</td>\n      <td>0.0</td>\n      <td>0.0</td>\n      <td>0.0</td>\n    </tr>\n    <tr>\n      <th>30403</th>\n      <td>0.0</td>\n      <td>0.0</td>\n      <td>0.0</td>\n      <td>0.0</td>\n      <td>0.0</td>\n      <td>0.0</td>\n      <td>0.0</td>\n      <td>0.0</td>\n      <td>0.0</td>\n      <td>0.0</td>\n      <td>...</td>\n      <td>0.0</td>\n      <td>0.0</td>\n      <td>0.0</td>\n      <td>0.0</td>\n      <td>0.0</td>\n      <td>0.0</td>\n      <td>0.0</td>\n      <td>0.0</td>\n      <td>0.0</td>\n      <td>1.0</td>\n    </tr>\n    <tr>\n      <th>21243</th>\n      <td>0.0</td>\n      <td>0.0</td>\n      <td>0.0</td>\n      <td>0.0</td>\n      <td>0.0</td>\n      <td>0.0</td>\n      <td>0.0</td>\n      <td>0.0</td>\n      <td>0.0</td>\n      <td>0.0</td>\n      <td>...</td>\n      <td>0.0</td>\n      <td>0.0</td>\n      <td>0.0</td>\n      <td>0.0</td>\n      <td>0.0</td>\n      <td>0.0</td>\n      <td>0.0</td>\n      <td>0.0</td>\n      <td>0.0</td>\n      <td>0.0</td>\n    </tr>\n    <tr>\n      <th>2732</th>\n      <td>0.0</td>\n      <td>0.0</td>\n      <td>0.0</td>\n      <td>0.0</td>\n      <td>0.0</td>\n      <td>0.0</td>\n      <td>0.0</td>\n      <td>0.0</td>\n      <td>0.0</td>\n      <td>0.0</td>\n      <td>...</td>\n      <td>0.0</td>\n      <td>0.0</td>\n      <td>0.0</td>\n      <td>0.0</td>\n      <td>0.0</td>\n      <td>0.0</td>\n      <td>0.0</td>\n      <td>0.0</td>\n      <td>0.0</td>\n      <td>0.0</td>\n    </tr>\n  </tbody>\n</table>\n<p>26142 rows × 26454 columns</p>\n</div>"
     },
     "metadata": {},
     "execution_count": 20
    }
   ],
   "source": [
    "onehot_X_train.index = X_train.index\n",
    "onehot_X_train"
   ]
  },
  {
   "cell_type": "code",
   "execution_count": null,
   "metadata": {},
   "outputs": [],
   "source": []
  }
 ],
 "metadata": {
  "file_extension": ".py",
  "kernelspec": {
   "display_name": "Python 3.7.3 32-bit",
   "language": "python",
   "name": "python37332bit25b0d3cdb002419198350303bdedb0ca"
  },
  "language_info": {
   "codemirror_mode": {
    "name": "ipython",
    "version": 3
   },
   "file_extension": ".py",
   "mimetype": "text/x-python",
   "name": "python",
   "nbconvert_exporter": "python",
   "pygments_lexer": "ipython3",
   "version": "3.8.2-final"
  },
  "mimetype": "text/x-python",
  "name": "python",
  "npconvert_exporter": "python",
  "pygments_lexer": "ipython3",
  "version": 3
 },
 "nbformat": 4,
 "nbformat_minor": 2
}